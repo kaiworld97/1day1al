{
 "cells": [
  {
   "cell_type": "code",
   "execution_count": 9,
   "metadata": {
    "collapsed": true
   },
   "outputs": [],
   "source": [
    "array = [1, 5, 2, 6, 3, 7, 4]\n",
    "commands = [[2, 5, 3], [4, 4, 1], [1, 7, 3]]"
   ]
  },
  {
   "cell_type": "code",
   "execution_count": 30,
   "outputs": [
    {
     "name": "stdout",
     "output_type": "stream",
     "text": [
      "a[2]= 3\n",
      "[2, 3, 5, 6]\n",
      "a[2]= 1\n",
      "[6]\n",
      "a[2]= 3\n",
      "[1, 2, 3, 4, 5, 6, 7]\n",
      "[5, 6, 3]\n"
     ]
    }
   ],
   "source": [
    "def solution(array, commands):\n",
    "    answer = []\n",
    "    for a in  commands:\n",
    "        try:\n",
    "            aa = sorted(array[a[0]-1:a[1]])\n",
    "            answer.append(aa[a[2]-1])\n",
    "        except:\n",
    "            aa = sorted(array[a[0]-1:a[1]])\n",
    "            answer.append(aa[0])\n",
    "    return answer\n",
    "print(solution(array, commands))"
   ],
   "metadata": {
    "collapsed": false,
    "pycharm": {
     "name": "#%%\n"
    }
   }
  }
 ],
 "metadata": {
  "kernelspec": {
   "display_name": "Python 3",
   "language": "python",
   "name": "python3"
  },
  "language_info": {
   "codemirror_mode": {
    "name": "ipython",
    "version": 2
   },
   "file_extension": ".py",
   "mimetype": "text/x-python",
   "name": "python",
   "nbconvert_exporter": "python",
   "pygments_lexer": "ipython2",
   "version": "2.7.6"
  }
 },
 "nbformat": 4,
 "nbformat_minor": 0
}