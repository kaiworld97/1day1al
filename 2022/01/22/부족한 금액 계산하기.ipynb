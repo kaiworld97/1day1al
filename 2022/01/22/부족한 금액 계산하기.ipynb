{
 "cells": [
  {
   "cell_type": "code",
   "execution_count": null,
   "metadata": {
    "collapsed": true
   },
   "outputs": [],
   "source": [
    "def solution(price, money, count):\n",
    "    answer = 0\n",
    "    all_price = 0\n",
    "    # 1배부터니까 1부터 count + 1 까지\n",
    "    for a in range(1, count + 1):\n",
    "        all_price += int(price)*a\n",
    "\n",
    "    last_money = money - all_price\n",
    "    # 금액이 부족하지 않으면. 문제 제대로 읽자.\n",
    "    if last_money >= 0:\n",
    "        answer = 0\n",
    "    else:\n",
    "        answer = abs(last_money)\n",
    "\n",
    "    return answer"
   ]
  }
 ],
 "metadata": {
  "kernelspec": {
   "display_name": "Python 3",
   "language": "python",
   "name": "python3"
  },
  "language_info": {
   "codemirror_mode": {
    "name": "ipython",
    "version": 2
   },
   "file_extension": ".py",
   "mimetype": "text/x-python",
   "name": "python",
   "nbconvert_exporter": "python",
   "pygments_lexer": "ipython2",
   "version": "2.7.6"
  }
 },
 "nbformat": 4,
 "nbformat_minor": 0
}