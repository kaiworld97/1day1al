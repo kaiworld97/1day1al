{
 "cells": [
  {
   "cell_type": "code",
   "execution_count": 8,
   "metadata": {
    "collapsed": true
   },
   "outputs": [],
   "source": [
    "a = int(input())"
   ]
  },
  {
   "cell_type": "code",
   "execution_count": 9,
   "outputs": [],
   "source": [
    "b = []\n",
    "for i in range(a):\n",
    "    b.append(int(input()))"
   ],
   "metadata": {
    "collapsed": false,
    "pycharm": {
     "name": "#%%\n"
    }
   }
  },
  {
   "cell_type": "code",
   "execution_count": 11,
   "outputs": [
    {
     "name": "stdout",
     "output_type": "stream",
     "text": [
      "1\n",
      "4\n",
      "87\n",
      "4065\n",
      "82256014\n"
     ]
    }
   ],
   "source": [
    "for i in b:\n",
    "    c = 0\n",
    "    for j in range(1, i + 1):\n",
    "        d = 0\n",
    "        for k in range(1, int(j**(1/2)) + 1):\n",
    "            if j % k == 0:\n",
    "                d += k\n",
    "                if k != j//k:\n",
    "                    d += j//k\n",
    "        c += d\n",
    "    print(c)"
   ],
   "metadata": {
    "collapsed": false,
    "pycharm": {
     "name": "#%%\n"
    }
   }
  }
 ],
 "metadata": {
  "kernelspec": {
   "display_name": "Python 3",
   "language": "python",
   "name": "python3"
  },
  "language_info": {
   "codemirror_mode": {
    "name": "ipython",
    "version": 2
   },
   "file_extension": ".py",
   "mimetype": "text/x-python",
   "name": "python",
   "nbconvert_exporter": "python",
   "pygments_lexer": "ipython2",
   "version": "2.7.6"
  }
 },
 "nbformat": 4,
 "nbformat_minor": 0
}