{
 "cells": [
  {
   "cell_type": "code",
   "execution_count": 11,
   "outputs": [],
   "source": [
    "li = [3, 30, 34, 5, 9]"
   ],
   "metadata": {
    "collapsed": false,
    "pycharm": {
     "name": "#%%\n"
    }
   }
  },
  {
   "cell_type": "code",
   "execution_count": 13,
   "outputs": [
    {
     "name": "stdout",
     "output_type": "stream",
     "text": [
      "9534303\n"
     ]
    }
   ],
   "source": [
    "li2 = sorted(list(map(str, li)), reverse=True)\n",
    "li3 = sorted(li2, reverse=True, key=lambda x: int(x[0]))\n",
    "print(\"\".join(li3))\n",
    "## 30하고 34 하고 3을 처리하지 못했다..."
   ],
   "metadata": {
    "collapsed": false,
    "pycharm": {
     "name": "#%%\n"
    }
   }
  },
  {
   "cell_type": "code",
   "execution_count": 14,
   "outputs": [],
   "source": [
    "def solution(numbers):\n",
    "    numbers_str = [str(num) for num in numbers]\n",
    "    numbers_str.sort(key=lambda num: num*3, reverse=True)\n",
    "\n",
    "    return str(int(''.join(numbers_str)))\n",
    "# num*3의 이유를 잘 모르겠다 3번 곱하면 3번째 자리까지만 비교하나?"
   ],
   "metadata": {
    "collapsed": false,
    "pycharm": {
     "name": "#%%\n"
    }
   }
  }
 ],
 "metadata": {
  "kernelspec": {
   "display_name": "Python 3",
   "language": "python",
   "name": "python3"
  },
  "language_info": {
   "codemirror_mode": {
    "name": "ipython",
    "version": 2
   },
   "file_extension": ".py",
   "mimetype": "text/x-python",
   "name": "python",
   "nbconvert_exporter": "python",
   "pygments_lexer": "ipython2",
   "version": "2.7.6"
  }
 },
 "nbformat": 4,
 "nbformat_minor": 0
}