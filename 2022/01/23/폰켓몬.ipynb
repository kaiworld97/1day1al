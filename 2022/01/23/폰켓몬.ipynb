{
 "cells": [
  {
   "cell_type": "code",
   "execution_count": 1,
   "metadata": {
    "collapsed": true
   },
   "outputs": [],
   "source": [
    "num = [3,3,3,2,2,2]"
   ]
  },
  {
   "cell_type": "code",
   "execution_count": 7,
   "outputs": [
    {
     "name": "stdout",
     "output_type": "stream",
     "text": [
      "2\n"
     ]
    }
   ],
   "source": [
    "def solution(nums):\n",
    "    answer = 0\n",
    "    # 중복을 없앤 것과 배열 절반의 길이가 같으면 둘중 아무거나 리턴하면 된다.\n",
    "    if len(set(nums)) == len(nums)/2:\n",
    "        answer = len(nums)/2\n",
    "    # 중복을 없앤 것이 배열 절반의 길이보다 크면 배열 절반을 리턴하면 된다.\n",
    "    elif len(set(nums)) > len(nums)/2:\n",
    "        answer = len(nums)/2\n",
    "    # 중복을 없앤 것이 배열 절반의 길이보다 작으면 배열에서 중복을 없앤 것을 리턴하면 된다.\n",
    "    else:\n",
    "        answer = len(set(nums))\n",
    "    return answer\n",
    "\n",
    "print(solution(num))"
   ],
   "metadata": {
    "collapsed": false,
    "pycharm": {
     "name": "#%%\n"
    }
   }
  },
  {
   "cell_type": "code",
   "execution_count": null,
   "outputs": [],
   "source": [
    "def solution1(ls):\n",
    "    return min(len(ls)/2, len(set(ls)))\n",
    "\n",
    "# ??? 다른 사람이 푼 코드...????? min이 있었다."
   ],
   "metadata": {
    "collapsed": false,
    "pycharm": {
     "name": "#%%\n"
    }
   }
  }
 ],
 "metadata": {
  "kernelspec": {
   "display_name": "Python 3",
   "language": "python",
   "name": "python3"
  },
  "language_info": {
   "codemirror_mode": {
    "name": "ipython",
    "version": 2
   },
   "file_extension": ".py",
   "mimetype": "text/x-python",
   "name": "python",
   "nbconvert_exporter": "python",
   "pygments_lexer": "ipython2",
   "version": "2.7.6"
  }
 },
 "nbformat": 4,
 "nbformat_minor": 0
}