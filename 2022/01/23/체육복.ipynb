{
 "cells": [
  {
   "cell_type": "code",
   "execution_count": null,
   "metadata": {
    "collapsed": true
   },
   "outputs": [],
   "source": [
    "def solution(n, lost, reserve):\n",
    "    l = len(lost)\n",
    "    v = 0\n",
    "    for a in lost:\n",
    "        if len(reserve) == 0:\n",
    "            break\n",
    "        elif a in reserve:\n",
    "            reserve.remove(a)\n",
    "            v += 1\n",
    "\n",
    "        elif a - 1 in reserve:\n",
    "            reserve.remove(a - 1)\n",
    "            v += 1\n",
    "        elif a + 1 in reserve:\n",
    "            reserve.remove(a + 1)\n",
    "            v += 1\n",
    "\n",
    "    answer = n - l + v\n",
    "    return answer\n",
    "\n",
    "# 85점짜라..."
   ]
  },
  {
   "cell_type": "code",
   "execution_count": null,
   "outputs": [],
   "source": [
    "def solution1(n, lost, reserve):\n",
    "    new_lost = set(lost) - set(reserve)\n",
    "    new_reserve = set(reserve) - set(lost)\n",
    "    for i in new_lost:\n",
    "        if i - 1 in new_reserve:\n",
    "            new_reserve.remove(i - 1)\n",
    "        elif i + 1 in new_reserve:\n",
    "            new_reserve.remove(i + 1)\n",
    "        else:\n",
    "            n-=1\n",
    "    return n\n",
    "\n",
    "# 다른 사람 풀이에서 if와 elif 조건 바꿈 정답. 차집합.메모..."
   ],
   "metadata": {
    "collapsed": false,
    "pycharm": {
     "name": "#%%\n"
    }
   }
  }
 ],
 "metadata": {
  "kernelspec": {
   "display_name": "Python 3",
   "language": "python",
   "name": "python3"
  },
  "language_info": {
   "codemirror_mode": {
    "name": "ipython",
    "version": 2
   },
   "file_extension": ".py",
   "mimetype": "text/x-python",
   "name": "python",
   "nbconvert_exporter": "python",
   "pygments_lexer": "ipython2",
   "version": "2.7.6"
  }
 },
 "nbformat": 4,
 "nbformat_minor": 0
}