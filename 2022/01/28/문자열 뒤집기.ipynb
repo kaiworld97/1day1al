{
 "cells": [
  {
   "cell_type": "code",
   "execution_count": 4,
   "metadata": {
    "collapsed": true
   },
   "outputs": [],
   "source": [
    "a = input()\n",
    "count0 = 0\n",
    "count1 = 0"
   ]
  },
  {
   "cell_type": "code",
   "execution_count": 5,
   "outputs": [
    {
     "name": "stdout",
     "output_type": "stream",
     "text": [
      "1\n"
     ]
    }
   ],
   "source": [
    "# 첫번째 자리\n",
    "if a[0] == \"1\":\n",
    "    count0 += 1\n",
    "else:\n",
    "    count1 += 1\n",
    "# 두번째 자리부터 끝까지\n",
    "for i in range(len(a) - 1):\n",
    "\n",
    "    if a[i] != a[i + 1]:\n",
    "        if a[i + 1] == \"1\":\n",
    "            count0 += 1\n",
    "        else:\n",
    "            count1 += 1\n",
    "print(min(count0, count1))"
   ],
   "metadata": {
    "collapsed": false,
    "pycharm": {
     "name": "#%%\n"
    }
   }
  }
 ],
 "metadata": {
  "kernelspec": {
   "display_name": "Python 3",
   "language": "python",
   "name": "python3"
  },
  "language_info": {
   "codemirror_mode": {
    "name": "ipython",
    "version": 2
   },
   "file_extension": ".py",
   "mimetype": "text/x-python",
   "name": "python",
   "nbconvert_exporter": "python",
   "pygments_lexer": "ipython2",
   "version": "2.7.6"
  }
 },
 "nbformat": 4,
 "nbformat_minor": 0
}