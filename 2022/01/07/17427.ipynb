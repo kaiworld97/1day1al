{
 "cells": [
  {
   "cell_type": "code",
   "execution_count": 15,
   "metadata": {
    "collapsed": true
   },
   "outputs": [],
   "source": [
    "a = int(input())"
   ]
  },
  {
   "cell_type": "code",
   "execution_count": null,
   "outputs": [],
   "source": [
    "# b = list(range(1, a + 1))\n",
    "# c = []\n",
    "# for d in b:\n",
    "#     f = []\n",
    "#     if d % 2 == 0:\n",
    "#         for e in range(1, d + 1):\n",
    "#             # print(d, e)\n",
    "#             if e * 2 == d:\n",
    "#                 f.append(e)\n",
    "#                 f.append(d)\n",
    "#                 break\n",
    "#             elif d % e == 0:\n",
    "#                 f.append(e)\n",
    "#         c.append(sum(f))\n",
    "#     else:\n",
    "#         for e in range(1, int((d + 1)/2), 2):\n",
    "#             print(d, e)\n",
    "#             if e != 1 and d % e == 0:\n",
    "#\n",
    "#             elif d % e == 0:\n",
    "#                 f.append(e)\n",
    "#         f.append(d)\n",
    "#         print(f)\n",
    "#         c.append(sum(f))\n",
    "# print(sum(c))\n"
   ],
   "metadata": {
    "collapsed": false,
    "pycharm": {
     "name": "#%%\n",
     "is_executing": true
    }
   }
  },
  {
   "cell_type": "code",
   "execution_count": 16,
   "outputs": [],
   "source": [
    "\n",
    "e = 0\n",
    "for d in range(1, a + 1):\n",
    "    b = 0\n",
    "    for c in range(1, int(d**(1/2)) + 1):\n",
    "        if d % c == 0:\n",
    "            b += c\n",
    "            if c != d//c:\n",
    "                b += d//c\n",
    "    e += b\n",
    "print(e)"
   ],
   "metadata": {
    "collapsed": false,
    "pycharm": {
     "name": "#%%\n"
    }
   }
  },
  {
   "cell_type": "code",
   "execution_count": 17,
   "outputs": [
    {
     "name": "stdout",
     "output_type": "stream",
     "text": [
      "82256014\n"
     ]
    }
   ],
   "source": [
    "answer=0\n",
    "for i in range(1,a+1):\n",
    "    answer+=int(a/i)*i\n",
    "print(answer)"
   ],
   "metadata": {
    "collapsed": false,
    "pycharm": {
     "name": "#%%\n"
    }
   }
  }
 ],
 "metadata": {
  "kernelspec": {
   "display_name": "Python 3",
   "language": "python",
   "name": "python3"
  },
  "language_info": {
   "codemirror_mode": {
    "name": "ipython",
    "version": 2
   },
   "file_extension": ".py",
   "mimetype": "text/x-python",
   "name": "python",
   "nbconvert_exporter": "python",
   "pygments_lexer": "ipython2",
   "version": "2.7.6"
  }
 },
 "nbformat": 4,
 "nbformat_minor": 0
}