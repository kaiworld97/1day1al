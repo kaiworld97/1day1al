{
 "cells": [
  {
   "cell_type": "code",
   "execution_count": 27,
   "outputs": [
    {
     "name": "stdout",
     "output_type": "stream",
     "text": [
      "['try', 'hello', 'world']\n"
     ]
    }
   ],
   "source": [
    "a = input().split()\n",
    "print(a)"
   ],
   "metadata": {
    "collapsed": false,
    "pycharm": {
     "name": "#%%\n"
    }
   }
  },
  {
   "cell_type": "code",
   "execution_count": 28,
   "outputs": [
    {
     "name": "stdout",
     "output_type": "stream",
     "text": [
      "TrY HeLlO WoRlD\n"
     ]
    }
   ],
   "source": [
    "c = []\n",
    "for b in a:\n",
    "    b = list(b)\n",
    "    for i in range(len(b)):\n",
    "        # print(i)\n",
    "        # print(b[i])\n",
    "        if i % 2 == 0:\n",
    "            b[i] = b[i].upper()\n",
    "        else:\n",
    "            b[i] = b[i].lower()\n",
    "    c.append(\"\".join(b))\n",
    "print(\" \".join(c))"
   ],
   "metadata": {
    "collapsed": false,
    "pycharm": {
     "name": "#%%\n"
    }
   }
  },
  {
   "cell_type": "code",
   "source": [
    "# 이게 내꺼랑 다른게 뭐임."
   ],
   "metadata": {
    "collapsed": false,
    "pycharm": {
     "name": "#%%\n"
    }
   },
   "execution_count": null,
   "outputs": []
  },
  {
   "cell_type": "code",
   "execution_count": null,
   "outputs": [],
   "source": [
    "def solution(s):\n",
    "    s_split = s.split(\" \")\n",
    "    for k in range(len(s_split)):\n",
    "        s_list = list(s_split[k])\n",
    "        for i in range(len(s_list)):\n",
    "            if i % 2 == 0:\n",
    "                s_list[i] = s_list[i].upper()\n",
    "            elif i % 2 == 1:\n",
    "                s_list[i] = s_list[i].lower()\n",
    "        s_split[k] = \"\".join(s_list)\n",
    "    answer = \" \".join(s_split)\n",
    "    return answer"
   ],
   "metadata": {
    "collapsed": false,
    "pycharm": {
     "name": "#%%\n"
    }
   }
  }
 ],
 "metadata": {
  "kernelspec": {
   "display_name": "Python 3",
   "language": "python",
   "name": "python3"
  },
  "language_info": {
   "codemirror_mode": {
    "name": "ipython",
    "version": 2
   },
   "file_extension": ".py",
   "mimetype": "text/x-python",
   "name": "python",
   "nbconvert_exporter": "python",
   "pygments_lexer": "ipython2",
   "version": "2.7.6"
  }
 },
 "nbformat": 4,
 "nbformat_minor": 0
}