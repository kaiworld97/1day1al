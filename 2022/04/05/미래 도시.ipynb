{
 "cells": [
  {
   "cell_type": "code",
   "execution_count": null,
   "metadata": {
    "collapsed": true
   },
   "outputs": [],
   "source": [
    "n, m = int(input().split())\n",
    "INF = int(1e9)\n",
    "graph = [[INF] *  (n + 1) for _ in range(n + 1)]\n",
    "\n",
    "for a in range(1, n + 1):\n",
    "    for b in range(1, n + 1):\n",
    "        if a == b:\n",
    "            graph[a][b] = 0\n",
    "\n",
    "for _ in range(m):\n",
    "    a, b = map(int, input().split())\n",
    "    graph[a][b] = 1\n",
    "    graph[b][a] = 1\n",
    "\n",
    "x, k = map(int, input().split())\n",
    "\n",
    "for k in range(1, n + 1):\n",
    "    for a in range(1, n + 1):\n",
    "        for b in range(1, n + 1):\n",
    "            graph[a][b] = min(graph[a][b], graph[a][k] + graph[k][b])\n",
    "\n",
    "distance = graph[1][k] + graph[k][x]\n",
    "\n",
    "if distance >= INF:\n",
    "    print('-1')\n",
    "else:\n",
    "    print(distance)"
   ]
  }
 ],
 "metadata": {
  "kernelspec": {
   "display_name": "Python 3",
   "language": "python",
   "name": "python3"
  },
  "language_info": {
   "codemirror_mode": {
    "name": "ipython",
    "version": 2
   },
   "file_extension": ".py",
   "mimetype": "text/x-python",
   "name": "python",
   "nbconvert_exporter": "python",
   "pygments_lexer": "ipython2",
   "version": "2.7.6"
  }
 },
 "nbformat": 4,
 "nbformat_minor": 0
}