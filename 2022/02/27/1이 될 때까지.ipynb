{
 "cells": [
  {
   "cell_type": "code",
   "execution_count": 10,
   "metadata": {
    "collapsed": true,
    "pycharm": {
     "name": "#%%\n"
    }
   },
   "outputs": [
    {
     "name": "stdout",
     "output_type": "stream",
     "text": [
      "2\n"
     ]
    }
   ],
   "source": [
    "n, k = map(int, input().split())\n",
    "# dp 초기화\n",
    "d = [0]*(n + 1)\n",
    "# 1은 계산 안해서 2부터 시작\n",
    "for i in range(2, n + 1):\n",
    "    # - 1 계산 횟수 더하기\n",
    "    d[i] = d[i - 1] + 1\n",
    "    # 나누어지면 나누고 최소값 비교하고 계산횟수 더하기\n",
    "    if i % k == 0:\n",
    "        d[i] = min(d[i], d[i // k] + 1)\n",
    "\n",
    "print(d[n])"
   ]
  }
 ],
 "metadata": {
  "kernelspec": {
   "display_name": "Python 3",
   "language": "python",
   "name": "python3"
  },
  "language_info": {
   "codemirror_mode": {
    "name": "ipython",
    "version": 2
   },
   "file_extension": ".py",
   "mimetype": "text/x-python",
   "name": "python",
   "nbconvert_exporter": "python",
   "pygments_lexer": "ipython2",
   "version": "2.7.6"
  }
 },
 "nbformat": 4,
 "nbformat_minor": 0
}