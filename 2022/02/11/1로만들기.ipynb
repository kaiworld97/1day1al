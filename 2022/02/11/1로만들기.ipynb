{
 "cells": [
  {
   "cell_type": "code",
   "execution_count": 23,
   "outputs": [],
   "source": [
    "x = int(input())\n",
    "d = [0]*30001"
   ],
   "metadata": {
    "collapsed": false,
    "pycharm": {
     "name": "#%%\n"
    }
   }
  },
  {
   "cell_type": "code",
   "execution_count": 28,
   "outputs": [
    {
     "name": "stdout",
     "output_type": "stream",
     "text": [
      "i = 2\n",
      "1\n",
      "i를 2로 나누었을때 작동되는 조건문입니다. 2와 1\n",
      "i = 3\n",
      "2\n",
      "i를 3로 나누었을때 작동되는 조건문입니다. 3와 1\n",
      "i = 4\n",
      "2\n",
      "i를 2로 나누었을때 작동되는 조건문입니다. 4와 2\n",
      "i = 5\n",
      "3\n",
      "i를 5로 나누었을때 작동되는 조건문입니다. 5와 1\n",
      "i = 6\n",
      "2\n",
      "i를 2로 나누었을때 작동되는 조건문입니다. 6와 2\n",
      "i를 3로 나누었을때 작동되는 조건문입니다. 6와 2\n",
      "i = 7\n",
      "3\n",
      "i = 8\n",
      "4\n",
      "i를 2로 나누었을때 작동되는 조건문입니다. 8와 3\n",
      "i = 9\n",
      "4\n",
      "i를 3로 나누었을때 작동되는 조건문입니다. 9와 2\n",
      "i = 10\n",
      "3\n",
      "i를 2로 나누었을때 작동되는 조건문입니다. 10와 2\n",
      "i를 5로 나누었을때 작동되는 조건문입니다. 10와 2\n",
      "2\n"
     ]
    }
   ],
   "source": [
    "for i in range(2, x + 1):\n",
    "    print(f'i = {i}')\n",
    "    # d를 갱신시켜주기 위해 +1 씩 된다 이거 돌리면\n",
    "    # d[i - 1]번째 수에 + 1\n",
    "    # + 1 은 연산량을 더해준거임 1회 연산을 추가로 했으니 + 1\n",
    "    d[i] = d[i - 1] + 1\n",
    "    # print(f'i: {i}와 d[i]: {d[i]}를 출력중입니다.')\n",
    "    print(d[i])\n",
    "    # min이 있으니까 나누는 순서는 상관없다\n",
    "    # 2로 나누어지면 나눈 인덱스에 + 1 저장\n",
    "    if i % 2 == 0:\n",
    "        d[i] = min(d[i], d[ i // 2 ] + 1)\n",
    "        print(\"i를 2로 나누었을때 작동되는 조건문입니다. %d와 %d\" %(i,d[i]))\n",
    "    # 3으로 나누어지면 나눈 인덱스에 + 1 저장\n",
    "    if i % 3 == 0:\n",
    "        d[i] = min(d[i], d[ i // 3 ] + 1)\n",
    "        print(\"i를 3로 나누었을때 작동되는 조건문입니다. %d와 %d\" %(i,d[i]))\n",
    "    # 5로 나누어지면 나눈 인덱스에 + 1 저장\n",
    "    if i % 5 == 0:\n",
    "        d[i] = min(d[i], d[ i // 5 ] + 1 )\n",
    "        print(\"i를 5로 나누었을때 작동되는 조건문입니다. %d와 %d\" %(i,d[i]))\n",
    "print(d[x])\n",
    "\n",
    "# 만약 10이라고 치면 2가 1번 연산이고 5가 1번 연산이니까 더해서 2번 연산 10은 2번 연산이다\n",
    "# 만약 9라고 치면 3이 1번연산이고 이게 두번이니까 2번 연산이다\n"
   ],
   "metadata": {
    "collapsed": false,
    "pycharm": {
     "name": "#%%\n"
    }
   }
  }
 ],
 "metadata": {
  "kernelspec": {
   "display_name": "Python 3",
   "language": "python",
   "name": "python3"
  },
  "language_info": {
   "codemirror_mode": {
    "name": "ipython",
    "version": 2
   },
   "file_extension": ".py",
   "mimetype": "text/x-python",
   "name": "python",
   "nbconvert_exporter": "python",
   "pygments_lexer": "ipython2",
   "version": "2.7.6"
  }
 },
 "nbformat": 4,
 "nbformat_minor": 0
}