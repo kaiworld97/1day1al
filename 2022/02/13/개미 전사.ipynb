{
 "cells": [
  {
   "cell_type": "code",
   "execution_count": 2,
   "metadata": {
    "collapsed": true
   },
   "outputs": [],
   "source": [
    "n = int(input())"
   ]
  },
  {
   "cell_type": "code",
   "execution_count": 3,
   "outputs": [],
   "source": [
    "a = list(map(int, input().split()))"
   ],
   "metadata": {
    "collapsed": false,
    "pycharm": {
     "name": "#%%\n"
    }
   }
  },
  {
   "cell_type": "code",
   "execution_count": 4,
   "outputs": [
    {
     "name": "stdout",
     "output_type": "stream",
     "text": [
      "9\n"
     ]
    }
   ],
   "source": [
    "# 범위가 100개\n",
    "d = [0] * 100\n",
    "d[0] = a[0]\n",
    "# a[0]이랑 비교해서 큰 컷을 넣는다\n",
    "d[1] = max(a[0], a[1])\n",
    "for i in range(2, n):\n",
    "    # d[i] 이전 것과 이전전 것과 지금을 더한 것을 비교해서 큰 것을 가진다\n",
    "    d[i] = max(d[i - 1], d[i - 2] + a[i])\n",
    "\n",
    "print(d[n - 1])"
   ],
   "metadata": {
    "collapsed": false,
    "pycharm": {
     "name": "#%%\n"
    }
   }
  }
 ],
 "metadata": {
  "kernelspec": {
   "display_name": "Python 3",
   "language": "python",
   "name": "python3"
  },
  "language_info": {
   "codemirror_mode": {
    "name": "ipython",
    "version": 2
   },
   "file_extension": ".py",
   "mimetype": "text/x-python",
   "name": "python",
   "nbconvert_exporter": "python",
   "pygments_lexer": "ipython2",
   "version": "2.7.6"
  }
 },
 "nbformat": 4,
 "nbformat_minor": 0
}