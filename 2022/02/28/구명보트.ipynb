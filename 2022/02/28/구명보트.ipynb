{
 "cells": [
  {
   "cell_type": "code",
   "execution_count": 40,
   "metadata": {
    "collapsed": true
   },
   "outputs": [],
   "source": [
    "def solution(people, limit):\n",
    "    answer = 1\n",
    "    people.sort()\n",
    "    l = []\n",
    "    for i in people:\n",
    "        l.append(i)\n",
    "        print(l)\n",
    "        if sum(l) == limit:\n",
    "            answer += 1\n",
    "            l = []\n",
    "        elif sum(l) > limit:\n",
    "            answer += 1\n",
    "            l = []\n",
    "            l.append(i)\n",
    "\n",
    "    return answer"
   ]
  },
  {
   "cell_type": "code",
   "execution_count": 41,
   "outputs": [
    {
     "name": "stdout",
     "output_type": "stream",
     "text": [
      "[50]\n",
      "[50, 50]\n",
      "[70]\n",
      "[70, 80]\n",
      "3\n"
     ]
    }
   ],
   "source": [
    "print(solution([70, 50, 80, 50], 100))"
   ],
   "metadata": {
    "collapsed": false,
    "pycharm": {
     "name": "#%%\n"
    }
   }
  },
  {
   "cell_type": "code",
   "execution_count": 38,
   "outputs": [],
   "source": [
    "def solution1(people, limit):\n",
    "    answer = 0\n",
    "    people.sort()\n",
    "    l = []\n",
    "    while True:\n",
    "        if len(people) == 0:\n",
    "            if len(l) != 0:\n",
    "                answer += 1\n",
    "            break\n",
    "        l.append(people[-1])\n",
    "        del people[-1]\n",
    "        for i in people:\n",
    "            l.append(i)\n",
    "            if sum(l) == limit:\n",
    "                answer += 1\n",
    "                people.remove(i)\n",
    "                l = []\n",
    "                break\n",
    "            elif sum(l) > limit:\n",
    "                answer += 1\n",
    "                l = []\n",
    "                break\n",
    "    return answer"
   ],
   "metadata": {
    "collapsed": false,
    "pycharm": {
     "name": "#%%\n"
    }
   }
  },
  {
   "cell_type": "code",
   "execution_count": 39,
   "outputs": [
    {
     "name": "stdout",
     "output_type": "stream",
     "text": [
      "3\n"
     ]
    }
   ],
   "source": [
    "print(solution1([70, 50, 80, 50], 100))"
   ],
   "metadata": {
    "collapsed": false,
    "pycharm": {
     "name": "#%%\n"
    }
   }
  },
  {
   "cell_type": "code",
   "execution_count": 46,
   "outputs": [],
   "source": [
    "# 정답이다\n",
    "def solution2(people, limit):\n",
    "    answer = 0\n",
    "    people.sort()\n",
    "\n",
    "    start, end = 0, len(people) - 1\n",
    "\n",
    "    while start <= end:\n",
    "        answer += 1\n",
    "        # 둘이서 나갈 경우\n",
    "        if people[start] + people[end] <= limit:\n",
    "            start += 1\n",
    "        # 한명만 나가게 된다면 무거운 애부터\n",
    "        end -= 1\n",
    "\n",
    "    return answer"
   ],
   "metadata": {
    "collapsed": false,
    "pycharm": {
     "name": "#%%\n"
    }
   }
  },
  {
   "cell_type": "code",
   "execution_count": 47,
   "outputs": [
    {
     "name": "stdout",
     "output_type": "stream",
     "text": [
      "3\n"
     ]
    }
   ],
   "source": [
    "print(solution2([70, 50, 80, 50], 100))"
   ],
   "metadata": {
    "collapsed": false,
    "pycharm": {
     "name": "#%%\n"
    }
   }
  }
 ],
 "metadata": {
  "kernelspec": {
   "display_name": "Python 3",
   "language": "python",
   "name": "python3"
  },
  "language_info": {
   "codemirror_mode": {
    "name": "ipython",
    "version": 2
   },
   "file_extension": ".py",
   "mimetype": "text/x-python",
   "name": "python",
   "nbconvert_exporter": "python",
   "pygments_lexer": "ipython2",
   "version": "2.7.6"
  }
 },
 "nbformat": 4,
 "nbformat_minor": 0
}