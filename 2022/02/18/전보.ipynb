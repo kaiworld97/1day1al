{
 "cells": [
  {
   "cell_type": "code",
   "execution_count": 1,
   "metadata": {
    "collapsed": true
   },
   "outputs": [],
   "source": [
    "import heapq\n",
    "# import sys"
   ]
  },
  {
   "cell_type": "code",
   "execution_count": 2,
   "outputs": [],
   "source": [
    "# input = sys.stdin.readline\n",
    "INF = int(1e9)\n",
    "\n",
    "n, m, start = map(int, input().split())\n",
    "graph = [[] for _ in range(n + 1)]\n",
    "distance = [INF] * (n + 1)"
   ],
   "metadata": {
    "collapsed": false,
    "pycharm": {
     "name": "#%%\n"
    }
   }
  },
  {
   "cell_type": "code",
   "execution_count": null,
   "outputs": [],
   "source": [
    "for _ in range(m):\n",
    "    x, y, z = map(int, input().split())\n",
    "    # 리스트에 튜플형태로 추가\n",
    "    graph[x].append((y, z))\n",
    "\n",
    "def digkstra(start):\n",
    "    q = []\n",
    "    # 큐에 처음 추가\n",
    "    heapq.heappush(q, (0, start))\n",
    "    # 시작점은 거리 0으로 설정\n",
    "    distance[start] = 0\n",
    "    # 큐가 없을 때가지\n",
    "    while q:\n",
    "        # 큐에서 제일 위에거 꺼내\n",
    "        dist, now = heapq.heappop(q)\n",
    "        # 만약 지금 노드의 거리보다 거리가 크다면 넘어간다\n",
    "        if distance[now] < dist:\n",
    "            continue\n",
    "        # 그 노드의 연결된 지점을 다 꺼내서\n",
    "        for i in graph[now]:\n",
    "            #\n",
    "            cost = dist + i[1]\n",
    "            # 코스트가 더 적다면 갱신한다\n",
    "            if cost < distance[i[0]]:\n",
    "                distance[i[0]] = cost\n",
    "                # 큐에 다시 추가한다\n",
    "                heapq.heappush(q, (cost, i[0]))\n",
    "\n",
    "digkstra(start)\n",
    "\n",
    "count = 0\n",
    "max_distance = 0\n",
    "\n",
    "for d in distance:\n",
    "    if d != INF:\n",
    "        count += 1\n",
    "        max_distance = max(max_distance, d)\n",
    "\n",
    "print(count - 1, max_distance)"
   ],
   "metadata": {
    "collapsed": false,
    "pycharm": {
     "name": "#%%\n",
     "is_executing": true
    }
   }
  }
 ],
 "metadata": {
  "kernelspec": {
   "display_name": "Python 3",
   "language": "python",
   "name": "python3"
  },
  "language_info": {
   "codemirror_mode": {
    "name": "ipython",
    "version": 2
   },
   "file_extension": ".py",
   "mimetype": "text/x-python",
   "name": "python",
   "nbconvert_exporter": "python",
   "pygments_lexer": "ipython2",
   "version": "2.7.6"
  }
 },
 "nbformat": 4,
 "nbformat_minor": 0
}