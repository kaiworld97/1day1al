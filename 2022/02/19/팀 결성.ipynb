{
 "cells": [
  {
   "cell_type": "code",
   "execution_count": null,
   "metadata": {
    "collapsed": true
   },
   "outputs": [],
   "source": [
    "# 서로소 집합 문제의 고정\n",
    "\n",
    "# 툭정 원소가 속한 집합 찾기\n",
    "def find_parent(parent, x):\n",
    "    # 루트 노드가 아니라면 루트 노드를 찾을 때까지 재귀적으로 호출\n",
    "    # 경로 압축 방식\n",
    "    if parent[x] != x:\n",
    "        parent[x] = find_parent(parent, parent[x])\n",
    "    return parent\n",
    "# 두 원소가 속한 집합을 합치기\n",
    "def union_parent(parent, a, b):\n",
    "    a = find_parent(parent, a)\n",
    "    b = find_parent(parent, b)\n",
    "    # 루트 노드가 더 작은게 부모 노드가 된다\n",
    "    if a < b:\n",
    "        parent[b] = a\n",
    "    else:\n",
    "        parent[a] = b\n",
    "\n",
    "#\n",
    "n, m = map(int, input().split())\n",
    "# 부모 테이블 초기화\n",
    "parent = [0] * (n + 1)\n",
    "# 부모 테이블 자기 자신으로 초기화\n",
    "for i in range(0, n + 1):\n",
    "    parent[i] = i\n",
    "# 여기까지가 서로소 집합 고정"
   ]
  },
  {
   "cell_type": "code",
   "execution_count": null,
   "outputs": [],
   "source": [
    "# 여기부터는 문제마다 약간씩 다름\n",
    "\n",
    "for _ in range(m):\n",
    "    # 인풋 받기\n",
    "    oper, a, b = map(int, input().split())\n",
    "    # 합치기인 경우\n",
    "    if oper == 0:\n",
    "        union_parent(parent, a, b)\n",
    "    # 찾기인 경우\n",
    "    elif oper == 1:\n",
    "        if find_parent(parent, a) == find_parent(parent, b):\n",
    "            print('YES')\n",
    "        else:\n",
    "            print('NO')"
   ],
   "metadata": {
    "collapsed": false,
    "pycharm": {
     "name": "#%%\n"
    }
   }
  }
 ],
 "metadata": {
  "kernelspec": {
   "display_name": "Python 3",
   "language": "python",
   "name": "python3"
  },
  "language_info": {
   "codemirror_mode": {
    "name": "ipython",
    "version": 2
   },
   "file_extension": ".py",
   "mimetype": "text/x-python",
   "name": "python",
   "nbconvert_exporter": "python",
   "pygments_lexer": "ipython2",
   "version": "2.7.6"
  }
 },
 "nbformat": 4,
 "nbformat_minor": 0
}