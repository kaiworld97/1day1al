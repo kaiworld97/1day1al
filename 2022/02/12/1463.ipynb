{
 "cells": [
  {
   "cell_type": "code",
   "execution_count": 3,
   "outputs": [],
   "source": [
    "x = int(input())\n",
    "# 데이터 저장할 곳 초기화 10*6까지라 1000001로 하여 1000000개까지\n",
    "d = [0]*1000001"
   ],
   "metadata": {
    "collapsed": false,
    "pycharm": {
     "name": "#%%\n"
    }
   }
  },
  {
   "cell_type": "code",
   "execution_count": 4,
   "outputs": [
    {
     "name": "stdout",
     "output_type": "stream",
     "text": [
      "2\n"
     ]
    }
   ],
   "source": [
    "# 1로 만들기 이기 때문에 2부터 시작\n",
    "for i in range(2, x + 1):\n",
    "    # 뒤에 +1은 계산횟수 더하기\n",
    "    # 이 전 계산에서 + 1 하면 지금의 수가 된다\n",
    "    # 그래서 이 전 계산까지 계산횟수에서 + 1\n",
    "    # 만약 10이면 9에서 + 1 해야 10이다 그걸 반대로 9의 계산 횟수에서부터 올라와서 계산\n",
    "    # 9는 계산해놨으니까 그 계산횟수에서 + 1 한다\n",
    "    # 밑에서부터 올라온다 보텀업\n",
    "    d[i] = d[i - 1] + 1\n",
    "    if i % 2 == 0:\n",
    "        # min 함수로 위의 계산한 것과 지금 중에 적은 수를 구한다\n",
    "        # 여기에  + 1도 이전 만약 18이면 2로 나누면 9\n",
    "        # 9는 이미 계산했으니 거기서 계산횟수 + 1 해주면 18의 계산횟수가 된다\n",
    "        d[i] = min(d[i], d[i // 2] + 1)\n",
    "    if i % 3 == 0:\n",
    "        d[i] = min(d[i], d[i // 3] + 1)\n",
    "# 계산횟수 값은 d[x]에 저장한다\n",
    "print(d[x])"
   ],
   "metadata": {
    "collapsed": false,
    "pycharm": {
     "name": "#%%\n"
    }
   }
  }
 ],
 "metadata": {
  "kernelspec": {
   "display_name": "Python 3",
   "language": "python",
   "name": "python3"
  },
  "language_info": {
   "codemirror_mode": {
    "name": "ipython",
    "version": 2
   },
   "file_extension": ".py",
   "mimetype": "text/x-python",
   "name": "python",
   "nbconvert_exporter": "python",
   "pygments_lexer": "ipython2",
   "version": "2.7.6"
  }
 },
 "nbformat": 4,
 "nbformat_minor": 0
}