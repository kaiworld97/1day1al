{
 "cells": [
  {
   "cell_type": "code",
   "execution_count": 23,
   "outputs": [],
   "source": [
    "x = int(input())\n",
    "d = [0]*30001"
   ],
   "metadata": {
    "collapsed": false,
    "pycharm": {
     "name": "#%%\n"
    }
   }
  },
  {
   "cell_type": "code",
   "execution_count": 25,
   "outputs": [
    {
     "name": "stdout",
     "output_type": "stream",
     "text": [
      "i: 2와 d[i]: 1를 출력중입니다.\n",
      "1\n",
      "i: 3와 d[i]: 2를 출력중입니다.\n",
      "2\n",
      "i: 4와 d[i]: 3를 출력중입니다.\n",
      "3\n",
      "i: 5와 d[i]: 4를 출력중입니다.\n",
      "4\n",
      "i: 6와 d[i]: 5를 출력중입니다.\n",
      "5\n",
      "i: 7와 d[i]: 6를 출력중입니다.\n",
      "6\n",
      "i: 8와 d[i]: 7를 출력중입니다.\n",
      "7\n",
      "i: 9와 d[i]: 8를 출력중입니다.\n",
      "8\n",
      "i: 10와 d[i]: 9를 출력중입니다.\n",
      "9\n"
     ]
    }
   ],
   "source": [
    "for i in range(2, x + 1):\n",
    "    # d를 갱신시켜주기 위해 +1 씩 된다 이거 돌리면\n",
    "    d[i] = d[i - 1] + 1\n",
    "    print(f'i: {i}와 d[i]: {d[i]}를 출력중입니다.')\n",
    "    print(d[i])\n",
    "    # 2부터 나누고 5로 나눠야 10같은게 2가되니까\n",
    "    # 2로 나누고 저장\n",
    "    if i % 2 == 0:\n",
    "        d[i] = min(d[i], d[ i // 2 ] + 1)\n",
    "        print(\"i를 2로 나누었을때 작동되는 조건문입니다. %d와 %d\" %(i,d[i]))\n",
    "    # 3으로 나누고 저장\n",
    "    if i % 3 == 0:\n",
    "        d[i] = min(d[i], d[ i // 3 ] + 1)\n",
    "        print(\"i를 3로 나누었을때 작동되는 조건문입니다. %d와 %d\" %(i,d[i]))\n",
    "    # 5로 나누고 저장\n",
    "    if i % 5 == 0:\n",
    "        d[i] = min(d[i], d[ i // 5 ] + 1 )\n",
    "        print(\"i를 5로 나누었을때 작동되는 조건문입니다. %d와 %d\" %(i,d[i]))\n",
    "print(d[x])"
   ],
   "metadata": {
    "collapsed": false,
    "pycharm": {
     "name": "#%%\n"
    }
   }
  }
 ],
 "metadata": {
  "kernelspec": {
   "display_name": "Python 3",
   "language": "python",
   "name": "python3"
  },
  "language_info": {
   "codemirror_mode": {
    "name": "ipython",
    "version": 2
   },
   "file_extension": ".py",
   "mimetype": "text/x-python",
   "name": "python",
   "nbconvert_exporter": "python",
   "pygments_lexer": "ipython2",
   "version": "2.7.6"
  }
 },
 "nbformat": 4,
 "nbformat_minor": 0
}