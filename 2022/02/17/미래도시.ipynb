{
 "cells": [
  {
   "cell_type": "code",
   "execution_count": null,
   "metadata": {
    "collapsed": true
   },
   "outputs": [],
   "source": [
    "# 10억이지만 무한이라고 친다\n",
    "INF = int(1e9)\n",
    "#\n",
    "n, m = map(int, input().split())\n",
    "# 2차원 그래프 받기\n",
    "graph = [[INF] * (n + 1) for _ in range(n + 1)]\n",
    "# 자기 자신으로 가는 비용 0으로 설정\n",
    "for a in range(1, n + 1):\n",
    "    for b in range(1, n + 1):\n",
    "        if a == b:\n",
    "            graph[a][b] = 0\n",
    "# 각 간선 입력받아서 그 값으로 설정\n",
    "for _ in range(m):\n",
    "    # 서로에게 가는 비용은 1로 설정\n",
    "    a, b = map(int, input().split())\n",
    "    graph[a][b] = 1\n",
    "    graph[b][a] = 1\n",
    "\n",
    "x, k = map(int, input().split())\n",
    "# 플로이드 워셜 알고리즘\n",
    "for k in range(1, n + 1):\n",
    "    for a in range(1, n + 1):\n",
    "        for b in range(1, n + 1):\n",
    "            graph[a][b] = min(graph[a][b], graph[a][k] + graph[k][b])\n",
    "# 거리 구하기\n",
    "distance = graph[1][k] + graph[k][x]\n",
    "\n",
    "if distance >= INF:\n",
    "    print('-1')\n",
    "else:\n",
    "    print(distance)"
   ]
  }
 ],
 "metadata": {
  "kernelspec": {
   "display_name": "Python 3",
   "language": "python",
   "name": "python3"
  },
  "language_info": {
   "codemirror_mode": {
    "name": "ipython",
    "version": 2
   },
   "file_extension": ".py",
   "mimetype": "text/x-python",
   "name": "python",
   "nbconvert_exporter": "python",
   "pygments_lexer": "ipython2",
   "version": "2.7.6"
  }
 },
 "nbformat": 4,
 "nbformat_minor": 0
}