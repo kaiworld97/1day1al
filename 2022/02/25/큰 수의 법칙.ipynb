{
 "cells": [
  {
   "cell_type": "code",
   "execution_count": 10,
   "metadata": {
    "collapsed": true
   },
   "outputs": [],
   "source": [
    "# map으로 재구성해서 할당하는데 input split으로 스페이스를 기준으로 3개로 나누고 int형으로 변환한다\n",
    "n, m, k = map(int, input().split())"
   ]
  },
  {
   "cell_type": "code",
   "execution_count": 5,
   "outputs": [],
   "source": [
    "# 위의 것과 같은 것을 하고 list로 감싼다\n",
    "li = list(map(int, input().split()))"
   ],
   "metadata": {
    "collapsed": false,
    "pycharm": {
     "name": "#%%\n"
    }
   }
  },
  {
   "cell_type": "code",
   "execution_count": 9,
   "outputs": [
    {
     "name": "stdout",
     "output_type": "stream",
     "text": [
      "46\n"
     ]
    }
   ],
   "source": [
    "# 리스트를 내림차순으로 정렬한다\n",
    "li.sort(reverse=True)\n",
    "# 결과를 저장할 result와 숫자를 셀 c를 지정\n",
    "result = 0\n",
    "c = 0\n",
    "# m 만큼만 반복하면 되니까 for문 사용 _는 메모리 아끼기 위해서\n",
    "for _ in range(m):\n",
    "    # 만약 c가 k만큼 되면 두번째숫자를 더하고 c를 초기화\n",
    "    if c == k:\n",
    "        result += li[1]\n",
    "        c = 0\n",
    "        continue\n",
    "    result += li[0]\n",
    "    # 카운트 해준다\n",
    "    c += 1\n",
    "\n",
    "print(result)"
   ],
   "metadata": {
    "collapsed": false,
    "pycharm": {
     "name": "#%%\n"
    }
   }
  }
 ],
 "metadata": {
  "kernelspec": {
   "display_name": "Python 3",
   "language": "python",
   "name": "python3"
  },
  "language_info": {
   "codemirror_mode": {
    "name": "ipython",
    "version": 2
   },
   "file_extension": ".py",
   "mimetype": "text/x-python",
   "name": "python",
   "nbconvert_exporter": "python",
   "pygments_lexer": "ipython2",
   "version": "2.7.6"
  }
 },
 "nbformat": 4,
 "nbformat_minor": 0
}