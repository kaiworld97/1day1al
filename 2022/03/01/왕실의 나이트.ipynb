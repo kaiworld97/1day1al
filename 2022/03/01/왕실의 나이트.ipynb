{
 "cells": [
  {
   "cell_type": "code",
   "execution_count": 4,
   "metadata": {
    "collapsed": true
   },
   "outputs": [
    {
     "name": "stdout",
     "output_type": "stream",
     "text": [
      "2\n"
     ]
    }
   ],
   "source": [
    "start = input()\n",
    "now_y = int(start[1])\n",
    "# 문자를 아스키 코드로 만드는 ord\n",
    "# ord('a') - ord('a')는 0이라 1부터 시작하기 위해서 + 1\n",
    "now_x = int(ord(start[0]) - int(ord('a'))) + 1\n",
    "# 8가지 경로\n",
    "x = [-2, -2, 2, 2, 1, -1, 1, -1]\n",
    "y = [1, -1, 1, -1, -2, -2, 2, 2]\n",
    "\n",
    "result = 0\n",
    "\n",
    "for i in range(8):\n",
    "    # 8 * 8판 안에서 이동 가능 하면 result + 1\n",
    "    if 1 <= now_y + y[i] <= 8 and 1 <= now_x + x[i] <= 8:\n",
    "        result += 1\n",
    "print(result)"
   ]
  }
 ],
 "metadata": {
  "kernelspec": {
   "display_name": "Python 3",
   "language": "python",
   "name": "python3"
  },
  "language_info": {
   "codemirror_mode": {
    "name": "ipython",
    "version": 2
   },
   "file_extension": ".py",
   "mimetype": "text/x-python",
   "name": "python",
   "nbconvert_exporter": "python",
   "pygments_lexer": "ipython2",
   "version": "2.7.6"
  }
 },
 "nbformat": 4,
 "nbformat_minor": 0
}