{
 "cells": [
  {
   "cell_type": "code",
   "execution_count": null,
   "metadata": {
    "collapsed": true
   },
   "outputs": [],
   "source": [
    "# 내가 추측한 답\n",
    "n = int(input())\n",
    "\n",
    "d = [0] * (n + 1)\n",
    "d[1] = 0\n",
    "d[2] = 3\n",
    "d[3] = 0\n",
    "for i in (4, n + 1):\n",
    "    d[i] = d[i - 1] + d[i - 2] * 2 + 2\n",
    "print(d[n])"
   ]
  },
  {
   "cell_type": "code",
   "execution_count": null,
   "outputs": [],
   "source": [
    "# 다른 사람의 정답\n",
    "n = int(input())\n",
    "d = [0] * 31\n",
    "d[2] = 3\n",
    "for i in range(4, 31, 2): # 홀수일땐 0이다\n",
    "    d[i] = d[2] * d[i - 2]\n",
    "    for j in range(4, i, 2):\n",
    "        d[i] += d[i - j] * 2\n",
    "    d[i] += 2\n",
    "print(d[n])"
   ],
   "metadata": {
    "collapsed": false,
    "pycharm": {
     "name": "#%%\n"
    }
   }
  }
 ],
 "metadata": {
  "kernelspec": {
   "display_name": "Python 3",
   "language": "python",
   "name": "python3"
  },
  "language_info": {
   "codemirror_mode": {
    "name": "ipython",
    "version": 2
   },
   "file_extension": ".py",
   "mimetype": "text/x-python",
   "name": "python",
   "nbconvert_exporter": "python",
   "pygments_lexer": "ipython2",
   "version": "2.7.6"
  }
 },
 "nbformat": 4,
 "nbformat_minor": 0
}