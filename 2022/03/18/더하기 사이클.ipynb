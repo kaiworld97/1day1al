{
 "cells": [
  {
   "cell_type": "code",
   "execution_count": 15,
   "metadata": {
    "collapsed": true
   },
   "outputs": [
    {
     "name": "stdout",
     "output_type": "stream",
     "text": [
      "12\n"
     ]
    }
   ],
   "source": [
    "n = input()\n",
    "\n",
    "if len(n) == 1:\n",
    "    n = n + '0'\n",
    "nn = n\n",
    "count = 0\n",
    "while True:\n",
    "    if len(str(int(n[0]) + int(n[1]))) == 1:\n",
    "        n = n[1] + str(int(n[0]) + int(n[1]))\n",
    "    else:\n",
    "        cc = n[1]\n",
    "        n = str(int(n[0]) + int(n[1]))\n",
    "        n = list(n)\n",
    "        n[0] = cc\n",
    "        n = ''.join(n)\n",
    "\n",
    "    count += 1\n",
    "    if n == nn:\n",
    "        break\n",
    "print(count)"
   ]
  }
 ],
 "metadata": {
  "kernelspec": {
   "display_name": "Python 3",
   "language": "python",
   "name": "python3"
  },
  "language_info": {
   "codemirror_mode": {
    "name": "ipython",
    "version": 2
   },
   "file_extension": ".py",
   "mimetype": "text/x-python",
   "name": "python",
   "nbconvert_exporter": "python",
   "pygments_lexer": "ipython2",
   "version": "2.7.6"
  }
 },
 "nbformat": 4,
 "nbformat_minor": 0
}