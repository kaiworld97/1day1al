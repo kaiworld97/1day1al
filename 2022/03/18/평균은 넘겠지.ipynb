{
 "cells": [
  {
   "cell_type": "code",
   "execution_count": 11,
   "metadata": {
    "collapsed": true
   },
   "outputs": [
    {
     "name": "stdout",
     "output_type": "stream",
     "text": [
      "40.000%\n"
     ]
    }
   ],
   "source": [
    "c = int(input())\n",
    "l = [list(map(int, input().split())) for _ in range(c)]\n",
    "\n",
    "for i in l:\n",
    "    n = i.pop(0)\n",
    "    s = sum(i)\n",
    "    cc = 0\n",
    "    for j in i:\n",
    "        if j > s/n:\n",
    "            cc += 1\n",
    "    k = cc/n * 100\n",
    "    print(f'{k:.3f}%')\n"
   ]
  }
 ],
 "metadata": {
  "kernelspec": {
   "display_name": "Python 3",
   "language": "python",
   "name": "python3"
  },
  "language_info": {
   "codemirror_mode": {
    "name": "ipython",
    "version": 2
   },
   "file_extension": ".py",
   "mimetype": "text/x-python",
   "name": "python",
   "nbconvert_exporter": "python",
   "pygments_lexer": "ipython2",
   "version": "2.7.6"
  }
 },
 "nbformat": 4,
 "nbformat_minor": 0
}