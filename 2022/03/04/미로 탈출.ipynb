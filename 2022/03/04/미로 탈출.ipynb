{
 "cells": [
  {
   "cell_type": "code",
   "execution_count": null,
   "metadata": {
    "collapsed": true
   },
   "outputs": [],
   "source": [
    "from collections import deque\n",
    "n, m = map(int, input().split())\n",
    "\n",
    "l = []\n",
    "for i in range(n):\n",
    "    l.append(list(map(int, input().split())))\n",
    "\n",
    "dx = [-1, 1, 0, 0]\n",
    "dy = [0, 0, -1, 1]\n",
    "def bfs(x, y):\n",
    "    q = deque()\n",
    "    q.append((x, y))\n",
    "\n",
    "    while q:\n",
    "        x, y = q.popleft()\n",
    "        for i in range(4):\n",
    "            nx = x + dx[i]\n",
    "            ny = y + dy[i]\n",
    "            if 0 < nx <= n and 0 < ny <= m:\n",
    "                continue\n",
    "            if l[nx][ny] == 0:\n",
    "                continue\n",
    "            if l[nx][ny] == 1:\n",
    "                l[nx][ny] == l[x][y] + 1\n",
    "                q.append((nx, ny))\n",
    "    return l[n - 1][m - 1]\n",
    "\n",
    "print(bfs(0 ,0))\n",
    "\n",
    "\n",
    "# [[1,0,1,0,1,0],\n",
    "#  [1,1,1,1,1,1],\n",
    "#  [0,0,0,0,0,1],\n",
    "#  [1,1,1,1,1,1],\n",
    "#  [1,1,1,1,1,1]]"
   ]
  }
 ],
 "metadata": {
  "kernelspec": {
   "display_name": "Python 3",
   "language": "python",
   "name": "python3"
  },
  "language_info": {
   "codemirror_mode": {
    "name": "ipython",
    "version": 2
   },
   "file_extension": ".py",
   "mimetype": "text/x-python",
   "name": "python",
   "nbconvert_exporter": "python",
   "pygments_lexer": "ipython2",
   "version": "2.7.6"
  }
 },
 "nbformat": 4,
 "nbformat_minor": 0
}