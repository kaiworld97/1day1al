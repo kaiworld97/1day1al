{
 "cells": [
  {
   "cell_type": "code",
   "execution_count": null,
   "metadata": {
    "collapsed": true
   },
   "outputs": [],
   "source": [
    "import collections\n",
    "def solution(participant, completion):\n",
    "    r = collections.Counter(participant) - collections.Counter(completion)\n",
    "\n",
    "    return list(r)[0]"
   ]
  },
  {
   "cell_type": "markdown",
   "source": [
    "collections.Counter(리스트)\n",
    "딕셔너리 형태로 바꿔준다 {'하이':1}\n",
    "이렇게\n",
    "중복이 있으면 {'바이': 2}\n",
    "이렇게 해준다 중복이 있는 리스트에서 뺄때 좋겠다\n",
    "중복이 없을땐\n",
    "list(set(리스트1) - set(리스트2))\n",
    "이렇게 빼도 되겠다"
   ],
   "metadata": {
    "collapsed": false
   }
  }
 ],
 "metadata": {
  "kernelspec": {
   "display_name": "Python 3",
   "language": "python",
   "name": "python3"
  },
  "language_info": {
   "codemirror_mode": {
    "name": "ipython",
    "version": 2
   },
   "file_extension": ".py",
   "mimetype": "text/x-python",
   "name": "python",
   "nbconvert_exporter": "python",
   "pygments_lexer": "ipython2",
   "version": "2.7.6"
  }
 },
 "nbformat": 4,
 "nbformat_minor": 0
}