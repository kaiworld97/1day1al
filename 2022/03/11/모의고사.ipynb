{
 "cells": [
  {
   "cell_type": "code",
   "execution_count": null,
   "metadata": {
    "collapsed": true,
    "pycharm": {
     "name": "#%%\n"
    }
   },
   "outputs": [],
   "source": [
    "# 내가 푼 방법\n",
    "def solution(answers):\n",
    "    answer = []\n",
    "    n = len(answers)\n",
    "    a = 0\n",
    "    b = 0\n",
    "    c = 0\n",
    "    aan = [1, 2, 3, 4, 5]\n",
    "    ban = [2, 1, 2, 3, 2, 4, 2, 5]\n",
    "    can = [3, 3, 1, 1, 2, 2, 4, 4, 5, 5]\n",
    "    def check(coan, an, r):\n",
    "        nn = n // len(an)\n",
    "        aa = n % len(an)\n",
    "        anan = an * nn + an[:aa]\n",
    "        for i in range(n):\n",
    "            if answers[i] == anan[i]:\n",
    "                r += 1\n",
    "        return r\n",
    "    a = check(answers, aan, a)\n",
    "    b = check(answers, ban, b)\n",
    "    c = check(answers, can, c)\n",
    "    hi = max(a,b,c)\n",
    "    if hi == a:\n",
    "        answer.append(1)\n",
    "    if hi == b:\n",
    "        answer.append(2)\n",
    "    if hi == c:\n",
    "        answer.append(3)\n",
    "\n",
    "    return answer"
   ]
  },
  {
   "cell_type": "code",
   "execution_count": null,
   "outputs": [],
   "source": [
    "# 깔금한 방법\n",
    "def solution(answers):\n",
    "    pattern1 = [1,2,3,4,5]\n",
    "    pattern2 = [2,1,2,3,2,4,2,5]\n",
    "    pattern3 = [3,3,1,1,2,2,4,4,5,5]\n",
    "    score = [0, 0, 0]\n",
    "    result = []\n",
    "    # enumerate를 사용해서 idx가 인덱스, answer가 답\n",
    "    for idx, answer in enumerate(answers):\n",
    "        # 답 길이에다가 그냥 나눠버림\n",
    "        if answer == pattern1[idx%len(pattern1)]:\n",
    "            score[0] += 1\n",
    "        if answer == pattern2[idx%len(pattern2)]:\n",
    "            score[1] += 1\n",
    "        if answer == pattern3[idx%len(pattern3)]:\n",
    "            score[2] += 1\n",
    "    # 이것 또한 생각하지 못했다\n",
    "    for idx, s in enumerate(score):\n",
    "        if s == max(score):\n",
    "            result.append(idx+1)\n",
    "\n",
    "    return result"
   ],
   "metadata": {
    "collapsed": false,
    "pycharm": {
     "name": "#%%\n"
    }
   }
  }
 ],
 "metadata": {
  "kernelspec": {
   "display_name": "Python 3",
   "language": "python",
   "name": "python3"
  },
  "language_info": {
   "codemirror_mode": {
    "name": "ipython",
    "version": 2
   },
   "file_extension": ".py",
   "mimetype": "text/x-python",
   "name": "python",
   "nbconvert_exporter": "python",
   "pygments_lexer": "ipython2",
   "version": "2.7.6"
  }
 },
 "nbformat": 4,
 "nbformat_minor": 0
}