{
 "cells": [
  {
   "cell_type": "code",
   "execution_count": 5,
   "metadata": {
    "collapsed": true
   },
   "outputs": [
    {
     "name": "stdout",
     "output_type": "stream",
     "text": [
      "0 0\n",
      "1 1\n",
      "2 2\n",
      "2 2\n",
      "3 3\n",
      "3 4\n",
      "4 4\n",
      "3 5\n",
      "5 4\n"
     ]
    }
   ],
   "source": [
    "import heapq\n",
    "# 무한 설정\n",
    "INF = int(1e9)\n",
    "\n",
    "n, m, start = map(int, input().split())\n",
    "# 그래프 초기화\n",
    "graph = [[] for _ in range(n + 1)]\n",
    "# 거리 초기화\n",
    "distance = [INF] * (n + 1)\n",
    "# 간선 정보 받기\n",
    "for _ in range(m):\n",
    "    x, y, z = map(int, input().split())\n",
    "    # x노드에서 y노드로 이동하는 비용이 z다 라는 의미\n",
    "    graph[x].append((y, z))\n",
    "def dijkstra(start):\n",
    "    # 힙 넣을 리스트 생성\n",
    "    q = []\n",
    "    # 시작 노드로 0 설정하여 추가\n",
    "    heapq.heappush(q, (0, start))\n",
    "    # 시작 노드 거리 0으로 지정\n",
    "    distance[start] = 0\n",
    "    # q 리스트가 사라질 때까지\n",
    "    while q:\n",
    "        # 가장 짧은 거리와 그 노드 꺼내기\n",
    "        dist, now = heapq.heappop(q)\n",
    "        # 방문한 노드 건너 뛰기\n",
    "        if distance[now] < dist:\n",
    "            continue\n",
    "        for i in graph[now]:\n",
    "            # 현재까지의 거리 + 다음 노드까지의 거리\n",
    "            cost = dist + i[1]\n",
    "            # 현재 노드를 거친 거리가 더 짧을 때 거리 갱신\n",
    "            if cost < distance[i[0]]:\n",
    "                distance[i[0]] = cost\n",
    "                heapq.heappush(q, (cost, i[0]))\n",
    "\n",
    "dijkstra(start)\n",
    "# 닿는 노드의 개수수\n",
    "count = 0\n",
    "max_distance = 0\n",
    "# 닿는 노드 중에서 가장 먼 노드의 최단 거리\n",
    "for d in distance:\n",
    "    # INF 아닐 경우 노드가 닿는 경우는\n",
    "    if d != INF:\n",
    "        count += 1\n",
    "        max_distance = max(max_distance, d)\n",
    "# 시작 노드 제외 해서  count - 1\n",
    "print(count - 1, max_distance)"
   ]
  }
 ],
 "metadata": {
  "kernelspec": {
   "display_name": "Python 3",
   "language": "python",
   "name": "python3"
  },
  "language_info": {
   "codemirror_mode": {
    "name": "ipython",
    "version": 2
   },
   "file_extension": ".py",
   "mimetype": "text/x-python",
   "name": "python",
   "nbconvert_exporter": "python",
   "pygments_lexer": "ipython2",
   "version": "2.7.6"
  }
 },
 "nbformat": 4,
 "nbformat_minor": 0
}