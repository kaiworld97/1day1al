{
 "cells": [
  {
   "cell_type": "code",
   "execution_count": 30,
   "metadata": {
    "collapsed": true,
    "pycharm": {
     "name": "#%%\n"
    }
   },
   "outputs": [],
   "source": [
    "from collections import defaultdict\n",
    "def solution(tickets):\n",
    "    # 특정 티켓의 인접 리스트를 구하는 함수\n",
    "    def graph():\n",
    "        routes = defaultdict(list)\n",
    "        for key, value in tickets:\n",
    "            routes[key].append(value)\n",
    "        return routes\n",
    "\n",
    "    # 스택을 사용한 DFS\n",
    "    def dfs():\n",
    "        stack = [\"ICN\"] # 시작은 고정\n",
    "        path = []  # 가려고하는 경로를 저장하는 변수\n",
    "        while stack:  # stack이 비어있을 때까지\n",
    "            top = stack[-1]\n",
    "            # 특정 공항에서 출발하는 표가 없다면 또는 있지만 티켓을 다 써버린 경우\n",
    "            if top not in routes or len(routes[top]) == 0:\n",
    "                path.append(stack.pop())\n",
    "            else:\n",
    "                # 여러개가 나오면 알파벳순으로 정렬한 첫번째가 나오게 하기 위함\n",
    "                stack.append(routes[top].pop(0))\n",
    "        return path\n",
    "\n",
    "    routes = graph()\n",
    "    # 알파벳순 정렬\n",
    "    for r in routes:\n",
    "        routes[r].sort()\n",
    "\n",
    "    answer = dfs()\n",
    "    # 스택 역순으로 뒤집기\n",
    "    answer.reverse()\n",
    "    return answer"
   ]
  },
  {
   "cell_type": "code",
   "execution_count": 31,
   "outputs": [
    {
     "name": "stdout",
     "output_type": "stream",
     "text": [
      "True\n",
      "['ICN', 'ATL', 'ICN', 'SFO', 'ATL', 'SFO']\n"
     ]
    }
   ],
   "source": [
    "print(solution([[\"ICN\", \"SFO\"], [\"ICN\", \"ATL\"], [\"SFO\", \"ATL\"], [\"ATL\", \"ICN\"], [\"ATL\",\"SFO\"]]))"
   ],
   "metadata": {
    "collapsed": false,
    "pycharm": {
     "name": "#%%\n"
    }
   }
  }
 ],
 "metadata": {
  "kernelspec": {
   "display_name": "Python 3",
   "language": "python",
   "name": "python3"
  },
  "language_info": {
   "codemirror_mode": {
    "name": "ipython",
    "version": 2
   },
   "file_extension": ".py",
   "mimetype": "text/x-python",
   "name": "python",
   "nbconvert_exporter": "python",
   "pygments_lexer": "ipython2",
   "version": "2.7.6"
  }
 },
 "nbformat": 4,
 "nbformat_minor": 0
}