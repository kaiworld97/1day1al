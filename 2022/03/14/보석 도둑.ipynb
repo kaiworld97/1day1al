{
 "cells": [
  {
   "cell_type": "code",
   "execution_count": 17,
   "metadata": {
    "collapsed": true
   },
   "outputs": [
    {
     "name": "stdout",
     "output_type": "stream",
     "text": [
      "164\n"
     ]
    }
   ],
   "source": [
    "# 시간초과로 안됨\n",
    "import heapq\n",
    "n, k = map(int, input().split())\n",
    "nl = []\n",
    "for _ in range(n):\n",
    "    m, v = map(int, input().split())\n",
    "    heapq.heappush(nl, (-v, m))\n",
    "\n",
    "kl = [int(input()) for _ in range(k)]\n",
    "kl.sort()\n",
    "result = 0\n",
    "while kl:\n",
    "    v, m = heapq.heappop(nl)\n",
    "    for i in kl:\n",
    "        if i >= m:\n",
    "            result -= v\n",
    "            kl.remove(i)\n",
    "        elif i < m:\n",
    "            break\n",
    "print(result)"
   ]
  },
  {
   "cell_type": "code",
   "execution_count": null,
   "outputs": [],
   "source": [
    "# 백준 제출용\n",
    "import heapq\n",
    "import sys\n",
    "input = sys.stdin.readline\n",
    "n, k = map(int, input().split())\n",
    "nl = []\n",
    "for _ in range(n):\n",
    "    m, v = map(int, input().split())\n",
    "    heapq.heappush(nl, (-v, m))\n",
    "\n",
    "kl = [int(input()) for _ in range(k)]\n",
    "kl.sort()\n",
    "result = 0\n",
    "while kl:\n",
    "    v, m = heapq.heappop(nl)\n",
    "    for i in kl:\n",
    "        if i >= m:\n",
    "            result -= v\n",
    "            kl.remove(i)\n",
    "        elif i < m:\n",
    "            break\n",
    "\n",
    "print(result)"
   ],
   "metadata": {
    "collapsed": false,
    "pycharm": {
     "name": "#%%\n"
    }
   }
  },
  {
   "cell_type": "code",
   "execution_count": null,
   "outputs": [],
   "source": [
    "# 다른 사람 답\n",
    "import heapq\n",
    "import sys\n",
    "\n",
    "N, K = map(int, input().split())\n",
    "gem = []\n",
    "for _ in range(N):\n",
    "    weight, value = map(int, sys.stdin.readline().split())\n",
    "    heapq.heappush(gem, [weight, value])\n",
    "\n",
    "bag = []\n",
    "for _ in range(K):\n",
    "    capacity = int(sys.stdin.readline())\n",
    "    heapq.heappush(bag, capacity)\n",
    "\n",
    "total_value = 0 #답이 될 숫자\n",
    "capable_gem = [] #현재 bag의 capacity보다 작은 모든 보석들\n",
    "\n",
    "for _ in range(K):\n",
    "    capacity = heapq.heappop(bag) # Bag의 최솟값을 heappop 해준다. 해당 Bag은 현재의 capacity 즉, 수용량이 된다\n",
    "\n",
    "    while gem and capacity >= gem[0][0]: #현재 bag의 capacity보다 이하인 모든 보석에 관하여\n",
    "        [weight, value] = heapq.heappop(gem) #최소 무게부터 차례대로 꺼낸다\n",
    "        heapq.heappush(capable_gem, -value) #무게를 제외한 값만 heappush하여 넣어준다(최대힙 구성)\n",
    "\n",
    "    if capable_gem: #gem 최소보다는 작지만 넣을 수 있는 보석들은 있는 경우\n",
    "        total_value -= heapq.heappop(capable_gem)\n",
    "    elif not gem: #남은 보석이 한 개도 없는 경우\n",
    "        break\n",
    "\n",
    "print(total_value)"
   ],
   "metadata": {
    "collapsed": false,
    "pycharm": {
     "name": "#%%\n"
    }
   }
  }
 ],
 "metadata": {
  "kernelspec": {
   "display_name": "Python 3",
   "language": "python",
   "name": "python3"
  },
  "language_info": {
   "codemirror_mode": {
    "name": "ipython",
    "version": 2
   },
   "file_extension": ".py",
   "mimetype": "text/x-python",
   "name": "python",
   "nbconvert_exporter": "python",
   "pygments_lexer": "ipython2",
   "version": "2.7.6"
  }
 },
 "nbformat": 4,
 "nbformat_minor": 0
}